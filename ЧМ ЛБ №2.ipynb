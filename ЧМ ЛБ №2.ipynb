{
  "cells": [
    {
      "cell_type": "markdown",
      "metadata": {
        "id": "view-in-github",
        "colab_type": "text"
      },
      "source": [
        "<a href=\"https://colab.research.google.com/github/shevochkkaaa/lab-robota/blob/main/%D0%A7%D0%9C%20%D0%9B%D0%91%20%E2%84%962.ipynb\" target=\"_parent\"><img src=\"https://colab.research.google.com/assets/colab-badge.svg\" alt=\"Open In Colab\"/></a>"
      ]
    },
    {
      "cell_type": "markdown",
      "source": [],
      "metadata": {
        "id": "YfgJKb2gQHTl"
      }
    },
    {
      "cell_type": "markdown",
      "source": [
        "ЛБ №2 ЧМ Шевченко Валерія"
      ],
      "metadata": {
        "id": "k7pDMfpOQKF0"
      }
    },
    {
      "cell_type": "code",
      "source": [
        "import numpy as np\n",
        "\n",
        "# Функція, що задає рівняння\n",
        "def f(x):\n",
        "    return 3 * x**4 - 4 * x**3 + x**2 - 2 * x - 1\n",
        "\n",
        "# Відокремлення коренів на інтервалах (пошук інтервалів, де функція змінює знак)\n",
        "intervals = []\n",
        "for i in np.arange(-2, 2, 0.5):  # Перевіряємо інтервали між -2 і 2\n",
        "    if f(i) * f(i + 0.5) < 0:\n",
        "        intervals.append((i, i + 0.5))\n",
        "\n",
        "print(\"Інтервали, де функція змінює знак:\", intervals)\n",
        "\n",
        "# Метод хорд\n",
        "def secant_method(x0, x1, tol=1e-4, max_iter=100):\n",
        "    for _ in range(max_iter):\n",
        "        if abs(f(x1)) < tol:\n",
        "            return x1\n",
        "        x2 = x1 - f(x1) * (x1 - x0) / (f(x1) - f(x0))\n",
        "        x0, x1 = x1, x2\n",
        "    return x1\n",
        "\n",
        "# Застосування методу до знайдених інтервалів\n",
        "for (a, b) in intervals:\n",
        "    root = secant_method(a, b)\n",
        "    print(f\"Корінь на інтервалі ({a}, {b}): {root}\")\n"
      ],
      "metadata": {
        "id": "fAaYlWUOQNZs",
        "outputId": "2344f0d7-19fd-491d-c8ef-1dea1e83306b",
        "colab": {
          "base_uri": "https://localhost:8080/"
        }
      },
      "execution_count": 1,
      "outputs": [
        {
          "output_type": "stream",
          "name": "stdout",
          "text": [
            "Інтервали, де функція змінює знак: [(-0.5, 0.0), (1.5, 2.0)]\n",
            "Корінь на інтервалі (-0.5, 0.0): -0.34156349547459885\n",
            "Корінь на інтервалі (1.5, 2.0): 1.5042846206830398\n"
          ]
        }
      ]
    },
    {
      "cell_type": "code",
      "source": [
        "3.\timport numpy as np\n",
        "4.\n",
        "5.\t# Функція, що задає рівняння\n",
        "6.\tdef f(x):\n",
        "7.\t    return 3 * x**4 - 4 * x**3 + x**2 - 2 * x - 1\n",
        "8.\n",
        "9.\t# Відокремлення коренів на інтервалах (пошук інтервалів, де функція змінює знак)\n",
        "10.\tintervals = []\n",
        "11.\tfor i in np.arange(-2, 2, 0.5):  # Перевіряємо інтервали між -2 і 2\n",
        "12.\t    if f(i) * f(i + 0.5) < 0:\n",
        "13.\t        intervals.append((i, i + 0.5))\n",
        "14.\n",
        "15.\tprint(\"Інтервали, де функція змінює знак:\", intervals)\n",
        "16.\t# Метод половинного ділення\n",
        "17.\tdef bisection_method(a, b, tol=1e-4):\n",
        "18.\t    if f(a) * f(b) >= 0:\n",
        "19.\t        return None  # Метод не застосовний на цьому інтервалі\n",
        "20.\n",
        "21.\t    c = a\n",
        "22.\t    while (b - a) / 2 > tol:\n",
        "23.\t        c = (a + b) / 2\n",
        "24.\t        if f(c) == 0:\n",
        "25.\t            return c\n",
        "26.\t        elif f(a) * f(c) < 0:\n",
        "27.\t            b = c\n",
        "28.\t        else:\n",
        "29.\t            a = c\n",
        "30.\t    return c\n",
        "31.\n",
        "32.\t# Застосування методу до знайдених інтервалів\n",
        "33.\tfor (a, b) in intervals:\n",
        "34.\t    root = bisection_method(a, b)\n",
        "35.\t    print(f\"Корінь на інтервалі ({a}, {b}): {root}\")\n",
        "36.\n",
        "\n"
      ],
      "metadata": {
        "id": "f00C0Z1MQSEs"
      },
      "execution_count": null,
      "outputs": []
    }
  ],
  "metadata": {
    "colab": {
      "name": "Добро пожаловать в Colaboratory!",
      "toc_visible": true,
      "provenance": [],
      "include_colab_link": true
    },
    "kernelspec": {
      "display_name": "Python 3",
      "name": "python3"
    }
  },
  "nbformat": 4,
  "nbformat_minor": 0
}