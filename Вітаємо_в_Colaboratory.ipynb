{
  "cells": [
    {
      "cell_type": "markdown",
      "metadata": {
        "id": "view-in-github",
        "colab_type": "text"
      },
      "source": [
        "<a href=\"https://colab.research.google.com/github/shevochkkaaa/lab-robota/blob/main/%D0%92%D1%96%D1%82%D0%B0%D1%94%D0%BC%D0%BE_%D0%B2_Colaboratory.ipynb\" target=\"_parent\"><img src=\"https://colab.research.google.com/assets/colab-badge.svg\" alt=\"Open In Colab\"/></a>"
      ]
    },
    {
      "cell_type": "markdown",
      "source": [
        "Лб 9, Шевченко Валерія"
      ],
      "metadata": {
        "id": "Vye7QhaHeGvY"
      }
    },
    {
      "cell_type": "code",
      "source": [
        "import numpy as np\n",
        "import matplotlib.pyplot as plt\n",
        "from scipy.interpolate import CubicSpline\n",
        "\n",
        "# Дані з таблиці\n",
        "x = np.array([1.2, 1.4, 1.7, 2.3, 2.8])\n",
        "y = np.array([1.36, 1.15, 2.34, 0.92, 3.12])\n",
        "\n",
        "# Побудова кубічного сплайну\n",
        "cs = CubicSpline(x, y)\n",
        "\n",
        "# Створюємо додаткові точки для графіка сплайну\n",
        "x_new = np.linspace(min(x), max(x), 100)\n",
        "y_new = cs(x_new)\n",
        "\n",
        "# Графік сплайну\n",
        "plt.figure(figsize=(8, 6))\n",
        "plt.plot(x, y, 'o', label='Табличні дані')\n",
        "plt.plot(x_new, y_new, label='Кубічний сплайн')\n",
        "plt.title('Побудова кубічного сплайну')\n",
        "plt.xlabel('x')\n",
        "plt.ylabel('y')\n",
        "plt.legend()\n",
        "plt.grid(True)\n",
        "plt.show()\n",
        "# Для порівняння використаємо той же результат з функції CubicSpline()\n",
        "\n",
        "# Створюємо графік для порівняння\n",
        "plt.figure(figsize=(8, 6))\n",
        "plt.plot(x, y, 'o', label='Табличні дані')\n",
        "plt.plot(x_new, y_new, label='Перевірка CubicSpline()')\n",
        "plt.title('Перевірка кубічного сплайну за допомогою CubicSpline()')\n",
        "plt.xlabel('x')\n",
        "plt.ylabel('y')\n",
        "plt.legend()\n",
        "plt.grid(True)\n",
        "plt.show()\n",
        "\n",
        "\n",
        "\n",
        "\n",
        "\n",
        "\n"
      ],
      "metadata": {
        "id": "Fkb-K9e6eKtz"
      },
      "execution_count": null,
      "outputs": []
    }
  ],
  "metadata": {
    "colab": {
      "name": "Вітаємо в Colaboratory",
      "toc_visible": true,
      "provenance": [],
      "include_colab_link": true
    },
    "kernelspec": {
      "display_name": "Python 3",
      "name": "python3"
    }
  },
  "nbformat": 4,
  "nbformat_minor": 0
}