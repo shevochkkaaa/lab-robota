{
  "cells": [
    {
      "cell_type": "markdown",
      "metadata": {
        "id": "view-in-github",
        "colab_type": "text"
      },
      "source": [
        "<a href=\"https://colab.research.google.com/github/shevochkkaaa/lab-robota/blob/main/%D0%92%D1%96%D1%82%D0%B0%D1%94%D0%BC%D0%BE_%D0%B2_Colaboratory.ipynb\" target=\"_parent\"><img src=\"https://colab.research.google.com/assets/colab-badge.svg\" alt=\"Open In Colab\"/></a>"
      ]
    },
    {
      "cell_type": "markdown",
      "source": [
        "Лабораторна робота №8 Шевченко Валерія"
      ],
      "metadata": {
        "id": "NqK43Qu0aqtL"
      }
    },
    {
      "cell_type": "code",
      "source": [
        "import numpy as np\n",
        "\n",
        "# Таблиця 2 для варіанту 4\n",
        "x_values = np.array([1.5, 2.0, 2.5, 3.0, 3.5, 4.0])\n",
        "y_values = np.array([10.517, 10.193, 9.807, 9.387, 8.977, 8.637])\n",
        "\n",
        "# Крок таблиці\n",
        "h = x_values[1] - x_values[0]\n",
        "\n",
        "# Обчислення кінцевих різниць\n",
        "def finite_differences(y):\n",
        "    n = len(y)\n",
        "    delta_y = np.zeros((n, n))\n",
        "    delta_y[:, 0] = y\n",
        "\n",
        "    for j in range(1, n):\n",
        "        for i in range(n - j):\n",
        "            delta_y[i, j] = delta_y[i + 1, j - 1] - delta_y[i, j - 1]\n",
        "\n",
        "    return delta_y\n",
        "\n",
        "# Отримуємо таблицю кінцевих різниць\n",
        "delta_table = finite_differences(y_values)\n",
        "\n",
        "# Функція для обчислення першої похідної за формулою Ньютона\n",
        "def first_derivative(delta_y1, delta2_y1, delta3_y1, delta4_y1, h):\n",
        "    return (delta_y1 - delta2_y1 / 2 + delta3_y1 / 3 - delta4_y1 / 4) / h\n",
        "\n",
        "# Функція для обчислення другої похідної за формулою Ньютона\n",
        "def second_derivative(delta2_y1, delta3_y1, delta4_y1, h):\n",
        "    return (delta2_y1 - delta3_y1 + 11*delta4_y1 / 12) / h**2\n",
        "\n",
        "# Обчислюємо першу та другу похідні в точці x = 2.0\n",
        "delta_y1 = delta_table[1, 1]  # Δy1\n",
        "delta2_y1 = delta_table[1, 2]  # Δ²y1\n",
        "delta3_y1 = delta_table[1, 3]  # Δ³y1\n",
        "delta4_y1 = delta_table[1, 4]  # Δ⁴y1\n",
        "\n",
        "# Похідні\n",
        "y1_prime = first_derivative(delta_y1, delta2_y1, delta3_y1, delta4_y1, h)\n",
        "y1_double_prime = second_derivative(delta2_y1, delta3_y1, delta4_y1, h)\n",
        "\n",
        "# Округляємо результати\n",
        "y1_prime = round(y1_prime, 3)\n",
        "y1_double_prime = round(y1_double_prime, 3)\n",
        "\n",
        "# Виводимо результати\n",
        "print(f\"Перша похідна y'(2.0) ≈ {y1_prime}\")\n",
        "print(f\"Друга похідна y''(2.0) ≈ {y1_double_prime}\")\n"
      ],
      "metadata": {
        "id": "JbpDIyrBat88",
        "outputId": "07d496d3-3146-41fa-d7d0-dc1fae236455",
        "colab": {
          "base_uri": "https://localhost:8080/"
        }
      },
      "execution_count": 1,
      "outputs": [
        {
          "output_type": "stream",
          "name": "stdout",
          "text": [
            "Перша похідна y'(2.0) ≈ -0.717\n",
            "Друга похідна y''(2.0) ≈ -0.253\n"
          ]
        }
      ]
    }
  ],
  "metadata": {
    "colab": {
      "name": "Вітаємо в Colaboratory",
      "toc_visible": true,
      "provenance": [],
      "include_colab_link": true
    },
    "kernelspec": {
      "display_name": "Python 3",
      "name": "python3"
    }
  },
  "nbformat": 4,
  "nbformat_minor": 0
}