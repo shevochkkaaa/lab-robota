{
  "cells": [
    {
      "cell_type": "markdown",
      "metadata": {
        "id": "view-in-github",
        "colab_type": "text"
      },
      "source": [
        "<a href=\"https://colab.research.google.com/github/shevochkkaaa/lab-robota/blob/main/lab3!.ipynb\" target=\"_parent\"><img src=\"https://colab.research.google.com/assets/colab-badge.svg\" alt=\"Open In Colab\"/></a>"
      ]
    },
    {
      "cell_type": "markdown",
      "source": [
        "Шевченко Валерія, ЛБ №3, ФІТ 2-8"
      ],
      "metadata": {
        "id": "WGWeqlG5eVwV"
      }
    },
    {
      "cell_type": "code",
      "execution_count": null,
      "metadata": {
        "id": "zwFnJsE6vjf8"
      },
      "outputs": [],
      "source": [
        "import numpy as np\n",
        "import numdifftools as nd\n",
        "\n",
        "# Функція f(x)\n",
        "def f(x):\n",
        "    return 3*x**4 - 4*x**3 + x**2 - 2*x - 1\n",
        "\n",
        "# Відокремлення коренів\n",
        "def find_segments():\n",
        "    search_range = np.arange(-10, 10, 0.5)  # Діапазон пошуку коренів\n",
        "    previous_x = None\n",
        "    segments = []\n",
        "\n",
        "    for x in search_range:\n",
        "        current_x = f(x)\n",
        "        if previous_x is not None and previous_x * current_x < 0:\n",
        "            segments.append((prev_x_point, x))\n",
        "        prev_x_point = x\n",
        "        previous_x = current_x\n",
        "\n",
        "    return segments\n",
        "\n",
        "# Метод Ньютона\n",
        "def nuton(a, b, eps):\n",
        "    df = nd.Derivative(f, n=1)\n",
        "    xi = b if f(b) * nd.Derivative(f, n=2)(b) > 0 else a\n",
        "\n",
        "    while True:\n",
        "        xi_1 = xi - f(xi) / df(xi)\n",
        "        if abs(xi_1 - xi) < eps:\n",
        "            break\n",
        "        xi = xi_1\n",
        "    return xi_1\n",
        "\n",
        "# Комбінований метод\n",
        "def komb(a, b, eps):\n",
        "    ai, bi = (a, b) if nd.Derivative(f, n=1)(a) * nd.Derivative(f, n=2)(a) > 0 else (b, a)\n",
        "\n",
        "    while abs(ai - bi) > eps:\n",
        "        ai = ai - f(ai) * (bi - ai) / (f(bi) - f(ai))\n",
        "        bi = bi - f(bi) / nd.Derivative(f, n=1)(bi)\n",
        "\n",
        "    return (ai + bi) / 2\n",
        "\n",
        "# Основний блок програми\n",
        "if __name__ == \"__main__\":\n",
        "    eps = 0.0001  # Точність\n",
        "\n",
        "    # Відокремлення коренів\n",
        "    segments = find_segments()\n",
        "    print(\"Відокремлені корені:\")\n",
        "    for a, b in segments:\n",
        "        print(f\"[{a}, {b}]\")\n",
        "\n",
        "    # Розв'язання рівняння на кожному відрізку методом Ньютона та комбінованим методом\n",
        "    for a, b in segments:\n",
        "        print(f\"\\nРозв'язок на відрізку [{a}, {b}]\")\n",
        "        newton_result = nuton(a, b, eps)\n",
        "        komb_result = komb(a, b, eps)\n",
        "        print(f\"Метод Ньютона: x = {round(newton_result, 5)}\")\n",
        "        print(f\"Комбінований метод: x = {round(komb_result, 5)}\")\n"
      ]
    }
  ],
  "metadata": {
    "colab": {
      "name": "Добро пожаловать в Colaboratory!",
      "toc_visible": true,
      "provenance": [],
      "include_colab_link": true
    },
    "kernelspec": {
      "display_name": "Python 3",
      "name": "python3"
    }
  },
  "nbformat": 4,
  "nbformat_minor": 0
}