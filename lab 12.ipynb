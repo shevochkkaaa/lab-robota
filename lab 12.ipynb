{
  "cells": [
    {
      "cell_type": "markdown",
      "metadata": {
        "id": "view-in-github",
        "colab_type": "text"
      },
      "source": [
        "<a href=\"https://colab.research.google.com/github/shevochkkaaa/lab-robota/blob/main/lab%2012.ipynb\" target=\"_parent\"><img src=\"https://colab.research.google.com/assets/colab-badge.svg\" alt=\"Open In Colab\"/></a>"
      ]
    },
    {
      "cell_type": "markdown",
      "source": [
        "Лб №12 Шевченко Валерія ФІТ 2-8 28 варіант"
      ],
      "metadata": {
        "id": "4YV1YgCQ4Tcr"
      }
    },
    {
      "cell_type": "code",
      "source": [
        "import numpy as np\n",
        "\n",
        "# Функції для інтегралів\n",
        "def f1(x):\n",
        "    return 1 / np.sqrt(x + 4)\n",
        "\n",
        "def f2(x):\n",
        "    return (x / 2 + 1) * np.sin(x / 2)\n",
        "\n",
        "def f3(x):\n",
        "    return 1 / np.sqrt(2 * x**2 + 1.3)\n",
        "\n",
        "# Ліві прямокутники\n",
        "def left_rectangle_method(f, a, b, n):\n",
        "    h = (b - a) / n\n",
        "    result = 0\n",
        "    for i in range(n):\n",
        "        result += f(a + i * h)\n",
        "    return h * result\n",
        "\n",
        "# Праві прямокутники\n",
        "def right_rectangle_method(f, a, b, n):\n",
        "    h = (b - a) / n\n",
        "    result = 0\n",
        "    for i in range(1, n+1):\n",
        "        result += f(a + i * h)\n",
        "    return h * result\n",
        "\n",
        "# Середні прямокутники\n",
        "def middle_rectangle_method(f, a, b, n):\n",
        "    h = (b - a) / n\n",
        "    result = 0\n",
        "    for i in range(n):\n",
        "        result += f(a + (i + 0.5) * h)\n",
        "    return h * result\n",
        "\n",
        "# Інтеграл 1: ∫(0.5, 2.3) 1/√(x+4) dx\n",
        "a1, b1, n1 = 0.5, 2.3, 10\n",
        "integral1_left = left_rectangle_method(f1, a1, b1, n1)\n",
        "integral1_right = right_rectangle_method(f1, a1, b1, n1)\n",
        "integral1_middle = middle_rectangle_method(f1, a1, b1, n1)\n",
        "\n",
        "print(f\"Інтеграл 1 (ліві прямокутники): {integral1_left}\")\n",
        "print(f\"Інтеграл 1 (праві прямокутники): {integral1_right}\")\n",
        "print(f\"Інтеграл 1 (середні прямокутники): {integral1_middle}\")\n"
      ],
      "metadata": {
        "id": "ipoXwAp74YB5"
      },
      "execution_count": null,
      "outputs": []
    },
    {
      "cell_type": "code",
      "source": [
        "# Визначення функцій для інтегралів\n",
        "def f1(x):\n",
        "    return 1 / np.sqrt(x + 4)\n",
        "\n",
        "def f2(x):\n",
        "    return (x / 2 + 1) * np.sin(x / 2)\n",
        "\n",
        "def f3(x):\n",
        "    return 1 / np.sqrt(2 * x**2 + 1.3)  # Функція для третього інтегралу\n",
        "\n",
        "# Метод трапецій\n",
        "def trapezoidal_method(f, a, b, n):\n",
        "    h = (b - a) / n\n",
        "    result = (f(a) + f(b)) / 2\n",
        "    for i in range(1, n):\n",
        "        result += f(a + i * h)\n",
        "    return result * h\n",
        "\n",
        "# Обчислення третього інтегралу (метод трапецій)\n",
        "a3, b3, n3 = 1, 2, 20  # Межі та кількість поділів\n",
        "integral3_trapezoidal = trapezoidal_method(f3, a3, b3, n3)  # Виклик методу трапецій\n",
        "\n",
        "print(f\"Інтеграл 3 (метод трапецій): {integral3_trapezoidal}\")\n"
      ],
      "metadata": {
        "id": "xSXfxBM14dX7"
      },
      "execution_count": null,
      "outputs": []
    },
    {
      "cell_type": "code",
      "source": [
        "import numpy as np\n",
        "\n",
        "# Визначення функцій для інтегралів\n",
        "def f1(x):\n",
        "    return 1 / np.sqrt(x + 4)\n",
        "\n",
        "def f2(x):\n",
        "    return (x / 2 + 1) * np.sin(x / 2)  # Функція для другого інтегралу\n",
        "\n",
        "def f3(x):\n",
        "    return 1 / np.sqrt(2 * x**2 + 1.3)\n",
        "\n",
        "# Метод Сімпсона\n",
        "def simpson_method(f, a, b, n):\n",
        "    h = (b - a) / n\n",
        "    result = f(a) + f(b)\n",
        "    for i in range(1, n, 2):\n",
        "        result += 4 * f(a + i * h)\n",
        "    for i in range(2, n-1, 2):\n",
        "        result += 2 * f(a + i * h)\n",
        "    return result * h / 3\n",
        "\n",
        "# Обчислення другого інтегралу (метод Сімпсона)\n",
        "a2, b2, n2 = 1.2, 2.8, 8  # Межі та кількість поділів\n",
        "integral2_simpson = simpson_method(f2, a2, b2, n2)  # Виклик методу Сімпсона\n",
        "\n",
        "print(f\"Інтеграл 2 (метод Сімпсона): {integral2_simpson}\")\n"
      ],
      "metadata": {
        "id": "IgtYpQfh4hPr"
      },
      "execution_count": null,
      "outputs": []
    }
  ],
  "metadata": {
    "colab": {
      "name": "Добро пожаловать в Colaboratory!",
      "toc_visible": true,
      "provenance": [],
      "include_colab_link": true
    },
    "kernelspec": {
      "display_name": "Python 3",
      "name": "python3"
    }
  },
  "nbformat": 4,
  "nbformat_minor": 0
}