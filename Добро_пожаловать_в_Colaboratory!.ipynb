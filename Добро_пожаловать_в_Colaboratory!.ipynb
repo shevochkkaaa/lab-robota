{
  "cells": [
    {
      "cell_type": "markdown",
      "metadata": {
        "id": "view-in-github",
        "colab_type": "text"
      },
      "source": [
        "<a href=\"https://colab.research.google.com/github/shevochkkaaa/lab-robota/blob/main/%D0%94%D0%BE%D0%B1%D1%80%D0%BE_%D0%BF%D0%BE%D0%B6%D0%B0%D0%BB%D0%BE%D0%B2%D0%B0%D1%82%D1%8C_%D0%B2_Colaboratory!.ipynb\" target=\"_parent\"><img src=\"https://colab.research.google.com/assets/colab-badge.svg\" alt=\"Open In Colab\"/></a>"
      ]
    },
    {
      "cell_type": "markdown",
      "source": [
        "Лабораторна робота №4, Шевченко Валеія, завдання №2"
      ],
      "metadata": {
        "id": "xRYR9vY12uWs"
      }
    },
    {
      "cell_type": "code",
      "source": [
        "import numpy as np\n",
        "import numpy as np\n",
        "\n",
        "# Define dimensions N and M\n",
        "N, M = 5, 4  # Example dimensions, can be modified as needed\n",
        "\n",
        "# Create a rectangular matrix A with random elements\n",
        "A = np.random.rand(N, M)\n",
        "\n",
        "# Calculate the mean for each row\n",
        "row_means = A.mean(axis=1)\n",
        "\n",
        "# Calculate the mean for each column\n",
        "column_means = A.mean(axis=0)\n",
        "\n",
        "print(A, row_means, column_means)"
      ],
      "metadata": {
        "id": "GkiZsb8V21TM",
        "outputId": "30962fb2-4e3d-4a64-fe41-54ad88bf6c25",
        "colab": {
          "base_uri": "https://localhost:8080/"
        }
      },
      "execution_count": 2,
      "outputs": [
        {
          "output_type": "stream",
          "name": "stdout",
          "text": [
            "[[0.9645764  0.98568803 0.57662262 0.66633071]\n",
            " [0.87683281 0.58536909 0.78800567 0.65712038]\n",
            " [0.96280062 0.01051756 0.01526835 0.44198857]\n",
            " [0.86421615 0.58493949 0.02960689 0.42444459]\n",
            " [0.25379755 0.35665606 0.98204381 0.3286668 ]] [0.79830444 0.72683199 0.35764378 0.47580178 0.48029106] [0.78444471 0.50463405 0.47830947 0.50371021]\n"
          ]
        }
      ]
    }
  ],
  "metadata": {
    "colab": {
      "name": "Добро пожаловать в Colaboratory!",
      "toc_visible": true,
      "provenance": [],
      "include_colab_link": true
    },
    "kernelspec": {
      "display_name": "Python 3",
      "name": "python3"
    }
  },
  "nbformat": 4,
  "nbformat_minor": 0
}