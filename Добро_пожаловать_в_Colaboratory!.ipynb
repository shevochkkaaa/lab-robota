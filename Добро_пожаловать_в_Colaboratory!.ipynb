{
  "cells": [
    {
      "cell_type": "markdown",
      "metadata": {
        "id": "view-in-github",
        "colab_type": "text"
      },
      "source": [
        "<a href=\"https://colab.research.google.com/github/shevochkkaaa/lab-robota/blob/main/%D0%94%D0%BE%D0%B1%D1%80%D0%BE_%D0%BF%D0%BE%D0%B6%D0%B0%D0%BB%D0%BE%D0%B2%D0%B0%D1%82%D1%8C_%D0%B2_Colaboratory!.ipynb\" target=\"_parent\"><img src=\"https://colab.research.google.com/assets/colab-badge.svg\" alt=\"Open In Colab\"/></a>"
      ]
    },
    {
      "cell_type": "markdown",
      "source": [
        "Лабораторна робота №4 , Шевченко Валерія, завдання №8"
      ],
      "metadata": {
        "id": "zK4wGjxf1idE"
      }
    },
    {
      "cell_type": "code",
      "source": [
        "import numpy as np\n",
        "from numpy.linalg import inv, det, solve\n",
        "\n",
        "# Coefficient matrix\n",
        "A = np.array([[7, 3, -6], [7, 9, -9], [2, -4, 9]])\n",
        "\n",
        "# Constants vector\n",
        "B = np.array([-1, 5, 28])\n",
        "\n",
        "# Method 1: Cramer's rule\n",
        "det_A = det(A)\n",
        "\n",
        "# If determinant is zero, the system has no unique solution\n",
        "if det_A == 0:\n",
        "    cramer_solution = None\n",
        "else:\n",
        "    # Calculating the solution using Cramer's rule\n",
        "    cramer_solution = []\n",
        "    for i in range(len(B)):\n",
        "        A_temp = np.copy(A)\n",
        "        A_temp[:, i] = B\n",
        "        cramer_solution.append(det(A_temp) / det_A)\n",
        "    cramer_solution = np.array(cramer_solution)\n",
        "\n",
        "# Method 2: Matrix inversion\n",
        "if det_A == 0:\n",
        "    matrix_inverse_solution = None\n",
        "else:\n",
        "    A_inv = inv(A)\n",
        "    matrix_inverse_solution = np.dot(A_inv, B)\n",
        "\n",
        "# Method 3: Gaussian elimination using solve()\n",
        "gaussian_solution = solve(A, B)\n",
        "\n",
        "print(cramer_solution, matrix_inverse_solution, gaussian_solution)\n",
        "\n"
      ],
      "metadata": {
        "id": "HDW89nyp1qcj",
        "outputId": "8a92e43a-ccdf-4673-8a7e-85663f36b590",
        "colab": {
          "base_uri": "https://localhost:8080/"
        }
      },
      "execution_count": 1,
      "outputs": [
        {
          "output_type": "stream",
          "name": "stdout",
          "text": [
            "[2. 3. 4.] [2. 3. 4.] [2. 3. 4.]\n"
          ]
        }
      ]
    }
  ],
  "metadata": {
    "colab": {
      "name": "Добро пожаловать в Colaboratory!",
      "toc_visible": true,
      "provenance": [],
      "include_colab_link": true
    },
    "kernelspec": {
      "display_name": "Python 3",
      "name": "python3"
    }
  },
  "nbformat": 4,
  "nbformat_minor": 0
}