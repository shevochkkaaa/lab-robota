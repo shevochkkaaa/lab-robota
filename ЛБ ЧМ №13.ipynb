{
  "cells": [
    {
      "cell_type": "markdown",
      "metadata": {
        "id": "view-in-github",
        "colab_type": "text"
      },
      "source": [
        "<a href=\"https://colab.research.google.com/github/shevochkkaaa/lab-robota/blob/main/%D0%9B%D0%91%20%D0%A7%D0%9C%20%E2%84%9613.ipynb\" target=\"_parent\"><img src=\"https://colab.research.google.com/assets/colab-badge.svg\" alt=\"Open In Colab\"/></a>"
      ]
    },
    {
      "cell_type": "markdown",
      "source": [
        "ЛБ №13 ЧМ Шевченко Валерія"
      ],
      "metadata": {
        "id": "bqFsC3zOmkaw"
      }
    },
    {
      "cell_type": "code",
      "source": [
        "import numpy as np\n",
        "import matplotlib.pyplot as plt\n",
        "\n",
        "# Описуємо функцію для диференціального рівняння\n",
        "def f_a(x, y):\n",
        "    return x + np.cos(y / 1.3)\n",
        "\n",
        "# Метод Ейлера\n",
        "def euler_method(f, x0, y0, h, n):\n",
        "    x_vals = np.arange(x0, x0 + (n + 1) * h, h)\n",
        "    y_vals = np.zeros(n + 1)\n",
        "    y_vals[0] = y0\n",
        "\n",
        "    for i in range(n):\n",
        "        y_vals[i + 1] = y_vals[i] + h * f(x_vals[i], y_vals[i])\n",
        "\n",
        "    return x_vals, y_vals\n",
        "\n",
        "# Початкові умови\n",
        "a1, b1, y0_a1 = 1.2, 2.2, 1.8\n",
        "h = 0.1  # Крок\n",
        "n_a1 = int((b1 - a1) / h)\n",
        "\n",
        "# Розв'язок методом Ейлера\n",
        "x_a1_euler, y_a1_euler = euler_method(f_a, a1, y0_a1, h, n_a1)\n",
        "\n",
        "# Графік\n",
        "plt.plot(x_a1_euler, y_a1_euler, label=\"Euler method\", marker=\"o\")\n",
        "plt.title(\"Метод Ейлера для $y' = x + cos(y / 1.3)$\")\n",
        "plt.xlabel(\"x\")\n",
        "plt.ylabel(\"y\")\n",
        "plt.legend()\n",
        "plt.grid(True)\n",
        "plt.show()\n"
      ],
      "metadata": {
        "id": "4zxqXChAmnTu"
      },
      "execution_count": null,
      "outputs": []
    },
    {
      "cell_type": "code",
      "source": [
        "import numpy as np\n",
        "import matplotlib.pyplot as plt\n",
        "\n",
        "# Описуємо функцію для рівняння y' = x + cos(y / 1.3)\n",
        "def f_ode(x, y):\n",
        "    return x + np.cos(y / 1.3)\n",
        "\n",
        "# Початкові умови\n",
        "a1, b1, y0_a1 = 1.2, 2.2, 1.8\n",
        "h = 0.1  # Крок\n",
        "n_a1 = int((b1 - a1) / h)\n",
        "\n",
        "# Метод Ейлера\n",
        "def euler_method(f, x0, y0, h, n):\n",
        "    x_vals = np.arange(x0, x0 + (n + 1) * h, h)\n",
        "    y_vals = np.zeros(n + 1)\n",
        "    y_vals[0] = y0\n",
        "\n",
        "    for i in range(n):\n",
        "        y_vals[i + 1] = y_vals[i] + h * f(x_vals[i], y_vals[i])\n",
        "\n",
        "    return x_vals, y_vals\n",
        "\n",
        "# Метод Ейлера-Коші\n",
        "def euler_cauchy_method(f, x0, y0, h, n):\n",
        "    x_vals = np.arange(x0, x0 + (n + 1) * h, h)\n",
        "    y_vals = np.zeros(n + 1)\n",
        "    y_vals[0] = y0\n",
        "\n",
        "    for i in range(n):\n",
        "        y_predict = y_vals[i] + h * f(x_vals[i], y_vals[i])\n",
        "        y_vals[i + 1] = y_vals[i] + h * 0.5 * (f(x_vals[i], y_vals[i]) + f(x_vals[i] + h, y_predict))\n",
        "\n",
        "    return x_vals, y_vals\n",
        "\n",
        "# Розв'язок методом Ейлера\n",
        "x_a1_euler, y_a1_euler = euler_method(f_ode, a1, y0_a1, h, n_a1)\n",
        "\n",
        "# Розв'язок методом Ейлера-Коші\n",
        "x_a1_cauchy, y_a1_cauchy = euler_cauchy_method(f_ode, a1, y0_a1, h, n_a1)\n",
        "\n",
        "# Графік для методу Ейлера та Ейлера-Коші\n",
        "plt.plot(x_a1_euler, y_a1_euler, label=\"Euler method\", marker=\"o\")\n",
        "plt.plot(x_a1_cauchy, y_a1_cauchy, label=\"Euler-Cauchy method\", marker=\"s\")\n",
        "plt.title(\"Метод Ейлера та Ейлера-Коші для $y' = x + cos(y / 1.3)$\")\n",
        "plt.xlabel(\"x\")\n",
        "plt.ylabel(\"y\")\n",
        "plt.legend()\n",
        "plt.grid(True)\n",
        "plt.show()\n"
      ],
      "metadata": {
        "id": "jfZuzlS3mrig"
      },
      "execution_count": null,
      "outputs": []
    },
    {
      "cell_type": "code",
      "source": [
        "import numpy as np\n",
        "import matplotlib.pyplot as plt\n",
        "from scipy.integrate import odeint\n",
        "\n",
        "# Описуємо функцію для рівняння y' = x + cos(y / 1.3)\n",
        "def f_ode(y, x):\n",
        "    return x + np.cos(y / 1.3)\n",
        "\n",
        "# Початкові умови\n",
        "a1, b1, y0_a1 = 1.2, 2.2, 1.8\n",
        "h = 0.1  # Крок\n",
        "x_vals_ode = np.linspace(a1, b1, int((b1 - a1) / h) + 1)\n",
        "\n",
        "# Виклик odeint\n",
        "y_vals_ode = odeint(f_ode, y0_a1, x_vals_ode)\n",
        "\n",
        "# Графік\n",
        "plt.plot(x_vals_ode, y_vals_ode, label=\"odeint\", marker=\"x\")\n",
        "plt.title(\"Розв'язок з odeint для $y' = x + cos(y / 1.3)$\")\n",
        "plt.xlabel(\"x\")\n",
        "plt.ylabel(\"y\")\n",
        "plt.legend()\n",
        "plt.grid(True)\n",
        "plt.show()\n"
      ],
      "metadata": {
        "id": "0ttjshZimtxv"
      },
      "execution_count": null,
      "outputs": []
    }
  ],
  "metadata": {
    "colab": {
      "name": "Добро пожаловать в Colaboratory!",
      "toc_visible": true,
      "provenance": [],
      "include_colab_link": true
    },
    "kernelspec": {
      "display_name": "Python 3",
      "name": "python3"
    }
  },
  "nbformat": 4,
  "nbformat_minor": 0
}