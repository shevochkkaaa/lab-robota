{
  "cells": [
    {
      "cell_type": "markdown",
      "metadata": {
        "id": "view-in-github",
        "colab_type": "text"
      },
      "source": [
        "<a href=\"https://colab.research.google.com/github/shevochkkaaa/lab-robota/blob/main/lab2.ipynb\" target=\"_parent\"><img src=\"https://colab.research.google.com/assets/colab-badge.svg\" alt=\"Open In Colab\"/></a>"
      ]
    },
    {
      "cell_type": "markdown",
      "source": [
        "Шевченко Валерія, ЛБ №2, ФІТ 2-8"
      ],
      "metadata": {
        "id": "WGWeqlG5eVwV"
      }
    },
    {
      "cell_type": "code",
      "execution_count": null,
      "metadata": {
        "id": "zwFnJsE6vjf8"
      },
      "outputs": [],
      "source": [
        "import numpy as np\n",
        "import numdifftools as nd\n",
        "\n",
        "# Задаємо функцію\n",
        "def f(x):\n",
        "    return 3*x**4 - 4*x**3 + x**2 - 2*x - 1\n",
        "\n",
        "# Точність\n",
        "eps = 0.0001\n",
        "\n",
        "# Відокремлення коренів (знаходимо сегменти)\n",
        "def find_segments():\n",
        "    search_range = np.arange(-10, 10, 0.5)  # Діапазон пошуку та крок\n",
        "    segments = []\n",
        "    previous_x = None\n",
        "    for x in search_range:\n",
        "        x = round(x, 4)\n",
        "        current_x = f(x)\n",
        "        if previous_x is not None and previous_x * current_x < 0:\n",
        "            segments.append((previous_x_point, x))\n",
        "        previous_x = current_x\n",
        "        previous_x_point = x\n",
        "    return segments\n",
        "\n",
        "# Метод половинного ділення\n",
        "def bisection_method(a, b, eps):\n",
        "    while abs(a - b) > eps:\n",
        "        c = (a + b) / 2\n",
        "        if f(a) * f(c) < 0:\n",
        "            b = c\n",
        "        else:\n",
        "            a = c\n",
        "    x = (a + b) / 2\n",
        "    print(f'x = {round(x, 5)} - Half division method')\n",
        "\n",
        "# Метод хорд\n",
        "def chord_method(a, b, eps):\n",
        "    derivative_f = nd.Derivative(f, n=1)\n",
        "    if f(a) * derivative_f(a) > 0:\n",
        "        x0 = a\n",
        "        xi = b\n",
        "    else:\n",
        "        x0 = b\n",
        "        xi = a\n",
        "\n",
        "    xi_1 = xi - (xi - x0) * f(xi) / (f(xi) - f(x0))\n",
        "    while abs(xi_1 - xi) > eps:\n",
        "        xi = xi_1\n",
        "        xi_1 = xi - (xi - x0) * f(xi) / (f(xi) - f(x0))\n",
        "    print(f'x = {round(xi_1, 5)} - Chord method')\n",
        "\n",
        "# Виконання програми\n",
        "segments = find_segments()\n",
        "for a, b in segments:\n",
        "    print(f'Solution of a nonlinear equation on a segment [{a}, {b}]')\n",
        "    bisection_method(a, b, eps)\n",
        "    chord_method(a, b, eps)\n",
        "\n"
      ]
    }
  ],
  "metadata": {
    "colab": {
      "name": "Добро пожаловать в Colaboratory!",
      "toc_visible": true,
      "provenance": [],
      "include_colab_link": true
    },
    "kernelspec": {
      "display_name": "Python 3",
      "name": "python3"
    }
  },
  "nbformat": 4,
  "nbformat_minor": 0
}